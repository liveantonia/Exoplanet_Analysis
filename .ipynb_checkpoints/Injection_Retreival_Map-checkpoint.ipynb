{
 "cells": [
  {
   "cell_type": "markdown",
   "id": "0a91ff04",
   "metadata": {},
   "source": [
    "This code is used for injection and retrieval of sinusoidal signals in RV data. You can adjust the period (P), mean anomaly (M0) and semi-amplitude (K) of the injected sinusoidal signal. Additionally the FAP levels can be adjusted. The data used below is testing a sinusoidal signal for the hypthesised planet GJ 581 d at a period of 66.7d and whether this signal can be recovered by the CARMENES spectrograph. \n",
    "\n",
    "The following was written by myself together with Dr. Trifon Trifonov. Enjoy!"
   ]
  },
  {
   "cell_type": "code",
   "execution_count": 1,
   "id": "7fff3951",
   "metadata": {},
   "outputs": [
    {
     "name": "stdout",
     "output_type": "stream",
     "text": [
      "Using matplotlib backend: <object object at 0x7f9918946b90>\n"
     ]
    }
   ],
   "source": [
    "import sys,  os\n",
    "sys.path.insert(0, '../exostriker/lib')\n",
    "import RV_mod as rv\n",
    "import numpy as np\n",
    "import dill\n",
    "%matplotlib\n",
    "\n",
    "import matplotlib.pyplot as plt\n",
    "import matplotlib as mpl\n",
    "from matplotlib.colors import LogNorm\n",
    "from mpl_toolkits.axes_grid1 import make_axes_locatable\n",
    "\n",
    "import pathos as ps\n",
    "import itertools\n",
    "\n",
    "def closest(lst, value):\n",
    "    closest_value = lst[min(range(len(lst)), key = lambda i: abs(lst[i]-value))]\n",
    "    indx = int(np.where(lst==closest_value)[0])\n",
    "    return closest_value, indx\n"
   ]
  },
  {
   "cell_type": "code",
   "execution_count": 2,
   "id": "7b84f92d",
   "metadata": {},
   "outputs": [],
   "source": [
    "mpl.rc('text',usetex=True)\n",
    "font = {'family' : 'normal','weight' : 'bold','size'   : 16,'serif':['Helvetica']}\n",
    "mpl.rc('font', **font)\n",
    "format_im = 'pdf'\n",
    "dpi = 300"
   ]
  },
  {
   "cell_type": "code",
   "execution_count": 3,
   "id": "8f48b82c",
   "metadata": {},
   "outputs": [],
   "source": [
    "def run_detection_rate(obj2,options):\n",
    "\n",
    "    from tqdm import tqdm\n",
    "\n",
    "    results = {\"P\":[],\"K\":[],\"M0\":[],'gls':[],'power':[],'peaks':[],'input':options}\n",
    "    \n",
    " \n",
    "    for P in tqdm(options['P']): \n",
    "        for K in tqdm(options['K']): \n",
    "            for M0 in tqdm(options['M0']): \n",
    "\n",
    "\n",
    "                sinewave = K * np.sin(2 * np.pi * 1/P * obj2.fit_results.rv_model.jd + np.radians(M0))\n",
    "\n",
    "                \n",
    "                if options['gls_o-c']:\n",
    "                    new_RVs = obj2.fit_results.rv_model.o_c + sinewave\n",
    "                else:\n",
    "                    new_RVs = obj2.fit_results.rv_model.rvs + sinewave                   \n",
    "\n",
    "                RV_per = rv.gls.Gls((obj2.fit_results.rv_model.jd, new_RVs, obj2.fit_results.rv_model.rv_err), fast=True, verbose=False, norm=\"ZK\",ofac=options['gls_ofac'], fbeg=1/options['gls_Pmax'], fend=1/options['gls_Pmin']) \n",
    "\n",
    "\n",
    "                text_peaks, pos_peaks = rv.identify_power_peaks(1/RV_per.freq, RV_per.power, power_level = options['power_levels'], sig_level = RV_per.powerLevel(np.array(options['power_levels'])) )\n",
    "\n",
    "                results[\"P\"].append(P)\n",
    "                results[\"K\"].append(K)                \n",
    "                results[\"M0\"].append(M0)\n",
    "                results[\"gls\"].append(dill.copy(RV_per.powerLevel(np.array(options['power_levels']))))\n",
    "                results[\"peaks\"].append(dill.copy(pos_peaks[0][0:10]))\n",
    "                results[\"power\"].append(dill.copy(pos_peaks[1][0:10]))\n",
    "\n",
    "    return results"
   ]
  },
  {
   "cell_type": "code",
   "execution_count": 4,
   "id": "565b427b",
   "metadata": {},
   "outputs": [],
   "source": [
    "file_pi = open(r\"/Users/antoniagraefinstauffenberg//Desktop/GJ 581/My sessions/HARPS/HARPS_Bin05_2pl.ses\", 'rb')\n",
    "fit = dill.load(file_pi)\n",
    "file_pi.close()   "
   ]
  },
  {
   "cell_type": "code",
   "execution_count": null,
   "id": "5f683c65",
   "metadata": {},
   "outputs": [],
   "source": [
    "########### Define the ranges and steps of P,K, and M0 to be explored\n",
    "P  = np.arange(60,70,0.5)\n",
    "K  = np.arange(0.2,5,0.2)\n",
    "M0 = np.arange(0,360,36)\n",
    "########### GLS FAPs ###################\n",
    "power_levels = np.array([0.1,0.01,0.01])\n",
    "########### input for the script #######\n",
    "input_opt = {'P':P, 'K':K, 'M0':M0,'gls_ofac':5, 'gls_Pmax':200,'gls_Pmin':2.0,'gls_o-c':True,'power_levels':power_levels}\n",
    "\n",
    "det_rate_results = rv.run_detection_rate(fit,input_opt)\n"
   ]
  },
  {
   "cell_type": "code",
   "execution_count": 12,
   "id": "746d7610",
   "metadata": {},
   "outputs": [],
   "source": [
    "f = open(\"Extracted_det_rate_results.pkl\",\"wb\")\n",
    "dill.dump(det_rate_results,f)\n",
    "f.close()"
   ]
  },
  {
   "cell_type": "code",
   "execution_count": 6,
   "id": "8cc08f55",
   "metadata": {},
   "outputs": [],
   "source": [
    "########## Define the 2d array needed for imshow()\n",
    "\n",
    "Prob_array = np.zeros((len(K),len(P)))\n",
    "\n",
    "########### Loop over all P,K and M0 and fill the 2d array\n",
    "\n",
    "for i,iP in enumerate(P):\n",
    "    for j,jK in enumerate(K):\n",
    "        prob = 0\n",
    "       \n",
    "        M0_ind = np.where(np.logical_and(det_rate_results[\"P\"] == iP, det_rate_results[\"K\"] == jK))[0]\n",
    "        for z, indM0 in enumerate(M0_ind):\n",
    "\n",
    "            Close_Peak,indx = closest(det_rate_results[\"peaks\"][indM0],iP)\n",
    "            \n",
    "            if abs(Close_Peak - iP) < iP*0.05 and det_rate_results[\"power\"][indM0][indx] >= det_rate_results[\"gls\"][indM0][2]:\n",
    "                #print(det_rate_results[\"power\"][indM0][indx],det_rate_results[\"gls\"][indM0][2])\n",
    "                prob= prob + 1\n",
    "                #print(iP,Close_Peak)\n",
    "        Prob_array[j,i] = (prob/len(M0_ind))\n",
    "        \n",
    "\n",
    "   \n",
    "############# Plotting ###############\n",
    "\n",
    "planet_p = [3.153, 5.368, 12.919, 66.688]\n",
    "planet_p_err = [0.001, 0.000, 0.001, 0.020]\n",
    "\n",
    "planet_K = [1.782, 12.488, 3.095, 1.618]\n",
    "planet_K_err = [0.384, 0.142, 0.063, 0.195]\n",
    " \n",
    "#fig = plt.figure(0)\n",
    "#ax1 = plt.subplot(1, 1, 1)\n",
    "\n",
    "extent=[min(P), max(P)+1,min(K),max(K)+1]\n",
    "\n",
    "plt.imshow(Prob_array, cmap = 'magma', interpolation='nearest',origin='lower',aspect='auto',extent=extent)\n",
    "plt.errorbar(66.688, 1.618, xerr = 0.020, yerr = 0.195, capsize=2, fmt = \"o\", color = \"limegreen\")\n",
    "plt.title(\"HARPS\")\n",
    "plt.ylabel('K [m/s]',fontsize=18,labelpad= 10, rotation = 'vertical')\n",
    "plt.xlabel('P [days]',fontsize=18)\n",
    "#divider = make_axes_locatable(ax1)\n",
    "#cax = divider.append_axes(\"right\", size=\"5%\", pad=0.05)\n",
    "\n",
    "#col1 = plt.colorbar(im, cax=cax, orientation=\"vertical\")\n",
    "plt.colorbar().set_label('Detection probability', rotation = 90, labelpad=12)\n",
    "\n",
    "plt.tight_layout(pad=0.4, w_pad=0.3, h_pad=1.0)\n",
    "\n",
    "plt.savefig('/Users/antoniagraefinstauffenberg//Desktop/GJ 581/Results/ImshowPlot_HARPS1.pdf', format=\"pdf\",dpi=dpi, bbox_inches='tight')\n",
    "\n",
    "plt.show()"
   ]
  }
 ],
 "metadata": {
  "kernelspec": {
   "display_name": "Python 3",
   "language": "python",
   "name": "python3"
  },
  "language_info": {
   "codemirror_mode": {
    "name": "ipython",
    "version": 3
   },
   "file_extension": ".py",
   "mimetype": "text/x-python",
   "name": "python",
   "nbconvert_exporter": "python",
   "pygments_lexer": "ipython3",
   "version": "3.8.16"
  }
 },
 "nbformat": 4,
 "nbformat_minor": 5
}
