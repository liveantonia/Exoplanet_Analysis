{
 "cells": [
  {
   "cell_type": "code",
   "execution_count": null,
   "id": "33e44918",
   "metadata": {},
   "outputs": [],
   "source": [
    "import csv\n",
    "\n",
    "CSV_CARMECITA = \"Directory/to/CARMENCITA/file\"\n",
    "\n",
    "#input the parameters you would like to be returned from the CARMENCITA file\n",
    "short_header = ['Karmn', 'Name',  'GJ', 'SpT','R_Rsol','eR_Rsol','M_Msol','eM_Msol', 'vsini_kms-1', 'vsini_flag', 'Teff_K','eTeff_K']\n",
    "\n",
    "def StellarParam(CarmencitaFile, StarName, short=False):\n",
    "    with open(CarmencitaFile, 'r') as file:\n",
    "        reader = csv.DictReader(file)\n",
    " \n",
    "        if short:\n",
    "            header = short_header\n",
    "        else:\n",
    "            header = reader.fieldnames\n",
    " \n",
    "        Karm_targ = []\n",
    "           \n",
    "        for rows in reader:\n",
    "            Karm_targ.append(rows[\"Karmn\"])\n",
    "            \n",
    "            if rows[\"Karmn\"] == StarName:\n",
    "                for index, value in enumerate(header):\n",
    "                    Parameter_value = rows[value]\n",
    "                    print(\"%s:\"%value, Parameter_value)\n",
    " \n",
    "\n",
    "        if StarName not in Karm_targ:\n",
    "            print(\"Star not found in CARMENCITA catalogue\")\n",
    "            \n",
    "            \n",
    "StellarParam(CSV_CARMECITA, \"J11421+267\", short=True)"
   ]
  }
 ],
 "metadata": {
  "kernelspec": {
   "display_name": "Python 3",
   "language": "python",
   "name": "python3"
  },
  "language_info": {
   "codemirror_mode": {
    "name": "ipython",
    "version": 3
   },
   "file_extension": ".py",
   "mimetype": "text/x-python",
   "name": "python",
   "nbconvert_exporter": "python",
   "pygments_lexer": "ipython3",
   "version": "3.8.16"
  }
 },
 "nbformat": 4,
 "nbformat_minor": 5
}
