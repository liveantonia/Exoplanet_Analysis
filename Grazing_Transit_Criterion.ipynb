{
 "cells": [
  {
   "cell_type": "markdown",
   "id": "8f5a2fa2",
   "metadata": {},
   "source": [
    "Grazing transits occur when the planet only travels partially across its host star. This can distort the radius estimation and read as too small, and therefore create a density estimnation that isn't physical. \n",
    "\n",
    "To test for this we have to calculate the \"impact criterion (b)\" and test if it satisfies two seperate criteria:\n",
    "$(1 - R_{pl}/R_{*}) < b \\le (1 + R_{pl}/R_{*})$\n",
    "and\n",
    "$(b + R_{pl}/R_{*}) \\ge 1$"
   ]
  },
  {
   "cell_type": "code",
   "execution_count": 73,
   "id": "6e557b65",
   "metadata": {},
   "outputs": [],
   "source": [
    "import matplotlib.pyplot as plt\n",
    "import numpy as np"
   ]
  },
  {
   "cell_type": "code",
   "execution_count": 74,
   "id": "e37b2ec7",
   "metadata": {},
   "outputs": [],
   "source": [
    "def impact_param(a_pl_rat, i):\n",
    "    return a_pl_rat*np.cos(i*(np.pi/180))\n",
    "\n",
    "# i denotes the inclination of the planet\n",
    "# a_pl_rat is the semi major axis of the planet over the radius of the star\n",
    "\n",
    "    \n",
    "def satisfies_criteria(R_rat, impact):\n",
    "    criterion1 = (1- R_rat) < impact <= (1+ R_rat)\n",
    "\n",
    "    criterion2 = (impact + R_rat) >= 1\n",
    "\n",
    "    #R_rat is the radii ratio between the planet and its star\n",
    "    \n",
    "    # Check if both the grazing transit criteria are satisified\n",
    "    if criterion1 and criterion2:\n",
    "        return True\n",
    "    else:\n",
    "        return False"
   ]
  },
  {
   "cell_type": "code",
   "execution_count": 75,
   "id": "3476adbe",
   "metadata": {},
   "outputs": [
    {
     "name": "stdout",
     "output_type": "stream",
     "text": [
      "0.9851020811514473 does not satisfy both conditions.\n"
     ]
    }
   ],
   "source": [
    "#Example parameters\n",
    "b = impact_param(20.137206865054566, 87.196)\n",
    "R_rat = 0.01485817\n",
    "\n",
    "if satisfies_criteria(R_rat, b):\n",
    "    print(f\"{b} satisfies both conditions.\")\n",
    "else:\n",
    "    print(f\"{b} does not satisfy both conditions.\")"
   ]
  },
  {
   "cell_type": "markdown",
   "id": "a936bd92",
   "metadata": {},
   "source": []
  }
 ],
 "metadata": {
  "kernelspec": {
   "display_name": "Python 3",
   "language": "python",
   "name": "python3"
  },
  "language_info": {
   "codemirror_mode": {
    "name": "ipython",
    "version": 3
   },
   "file_extension": ".py",
   "mimetype": "text/x-python",
   "name": "python",
   "nbconvert_exporter": "python",
   "pygments_lexer": "ipython3",
   "version": "3.8.16"
  }
 },
 "nbformat": 4,
 "nbformat_minor": 5
}
