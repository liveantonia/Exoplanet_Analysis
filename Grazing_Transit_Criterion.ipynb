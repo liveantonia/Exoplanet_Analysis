{
 "cells": [
  {
   "cell_type": "code",
   "execution_count": 1,
   "id": "b631f86c",
   "metadata": {},
   "outputs": [],
   "source": [
    "import matplotlib.pyplot as plt\n",
    "import numpy as np"
   ]
  },
  {
   "cell_type": "code",
   "execution_count": 20,
   "id": "83957339",
   "metadata": {},
   "outputs": [],
   "source": [
    "def impact_param(a_pl_rat, i):\n",
    "    return a_pl_rat*np.cos(i*(np.pi/180))\n",
    "    \n",
    "def satisfies_conditions(R_rat, impact):\n",
    "    condition1 = (1- R_rat) < impact <= (1+ R_rat)\n",
    "\n",
    "    condition2 = (impact + R_rat) >= 1\n",
    "\n",
    "    # Check if both conditions are satisfied\n",
    "    if condition1 and condition2:\n",
    "        return True\n",
    "    else:\n",
    "        return False"
   ]
  },
  {
   "cell_type": "code",
   "execution_count": 72,
   "id": "4c9c980e",
   "metadata": {},
   "outputs": [
    {
     "name": "stdout",
     "output_type": "stream",
     "text": [
      "0.9851020811514473 does not satisfy both conditions.\n"
     ]
    }
   ],
   "source": [
    "b = impact_param(20.137206865054566, 87.196)\n",
    "R_rat = 0.01485817\n",
    "\n",
    "if satisfies_conditions(R_rat, b):\n",
    "    print(f\"{b} satisfies both conditions.\")\n",
    "else:\n",
    "    print(f\"{b} does not satisfy both conditions.\")\n",
    "#In this code, the satisfies_conditions function takes a number as a parameter and checks two conditions using boolean variables condition1 and condition2. It then returns True if both conditions are satisfied and False otherwise. You can modify the conditions and the code as needed for your specific use case.\n"
   ]
  },
  {
   "cell_type": "markdown",
   "id": "c977b5a1",
   "metadata": {},
   "source": []
  }
 ],
 "metadata": {
  "kernelspec": {
   "display_name": "Python 3",
   "language": "python",
   "name": "python3"
  },
  "language_info": {
   "codemirror_mode": {
    "name": "ipython",
    "version": 3
   },
   "file_extension": ".py",
   "mimetype": "text/x-python",
   "name": "python",
   "nbconvert_exporter": "python",
   "pygments_lexer": "ipython3",
   "version": "3.8.16"
  }
 },
 "nbformat": 4,
 "nbformat_minor": 5
}
